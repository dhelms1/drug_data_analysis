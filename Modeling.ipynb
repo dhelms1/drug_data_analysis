{
 "cells": [
  {
   "cell_type": "markdown",
   "id": "quarterly-chicago",
   "metadata": {},
   "source": [
    "# Modeling Notebook\n",
    "\n",
    "---\n",
    "\n",
    "Now that we have explored the data and have a better understanding of it, we will want to create a model using PyTorch that can assess the sentiment of the review and correctly classify it. The notebook will be broken down into the following sections:\n",
    "\n",
    "1. Data Preprocessing\n",
    "    - Convert rating to sentiment based on findings from previous notebook.\n",
    "    - Remove html tags and tokenize inputs for the reviews in all data sets.\n",
    "    - ...\n",
    "2. Modeling\n",
    "    - Create the ..."
   ]
  },
  {
   "cell_type": "code",
   "execution_count": 24,
   "id": "aggregate-penguin",
   "metadata": {},
   "outputs": [],
   "source": [
    "!pip install keras\n",
    "!pip install --upgrade tensorflow"
   ]
  },
  {
   "cell_type": "code",
   "execution_count": 25,
   "id": "amber-possession",
   "metadata": {},
   "outputs": [],
   "source": [
    "# Import General Libraries\n",
    "import numpy as np\n",
    "import pandas as pd\n",
    "import matplotlib.pyplot as plt\n",
    "import seaborn as sns\n",
    "\n",
    "# Set style parameters for graphs\n",
    "sns.set_style(\"darkgrid\", {'axes.edgecolor': 'black'})\n",
    "sns.set_palette(palette=sns.color_palette(\"viridis\", 3))\n",
    "plt.rcParams['font.size'] = 12\n",
    "plt.rcParams['axes.titlesize'] = 16\n",
    "plt.rcParams[\"legend.edgecolor\"] = 'black'\n",
    "\n",
    "# Import Data Preprocessing Libraries\n",
    "from sklearn.model_selection import train_test_split\n",
    "from sklearn.utils import shuffle\n",
    "\n",
    "import nltk\n",
    "from nltk.corpus import stopwords\n",
    "from nltk.stem.porter import *\n",
    "import re\n",
    "from bs4 import BeautifulSoup"
   ]
  },
  {
   "cell_type": "markdown",
   "id": "identified-engineering",
   "metadata": {},
   "source": [
    "# Data Preprocessing\n",
    "\n",
    "Before we can begin to build the model, we will need to read in and process the data so it is in the correct format. This involves dropping all unnecessary features, converting rating to sentiment based on previous findings, and splitting the data into train, validation, and test sets."
   ]
  },
  {
   "cell_type": "code",
   "execution_count": 2,
   "id": "running-roberts",
   "metadata": {},
   "outputs": [],
   "source": [
    "train = pd.read_csv('data/drugsComTrain_raw.tsv', sep='\\t')\n",
    "test = pd.read_csv('data/drugsComTest_raw.tsv', sep='\\t')"
   ]
  },
  {
   "cell_type": "code",
   "execution_count": 3,
   "id": "violent-minutes",
   "metadata": {},
   "outputs": [],
   "source": [
    "train = train.iloc[:, 3:5]\n",
    "test = test.iloc[:, 3:5]"
   ]
  },
  {
   "cell_type": "code",
   "execution_count": 4,
   "id": "appropriate-fight",
   "metadata": {},
   "outputs": [
    {
     "data": {
      "text/html": [
       "<div>\n",
       "<style scoped>\n",
       "    .dataframe tbody tr th:only-of-type {\n",
       "        vertical-align: middle;\n",
       "    }\n",
       "\n",
       "    .dataframe tbody tr th {\n",
       "        vertical-align: top;\n",
       "    }\n",
       "\n",
       "    .dataframe thead th {\n",
       "        text-align: right;\n",
       "    }\n",
       "</style>\n",
       "<table border=\"1\" class=\"dataframe\">\n",
       "  <thead>\n",
       "    <tr style=\"text-align: right;\">\n",
       "      <th></th>\n",
       "      <th>review</th>\n",
       "      <th>rating</th>\n",
       "    </tr>\n",
       "  </thead>\n",
       "  <tbody>\n",
       "    <tr>\n",
       "      <th>0</th>\n",
       "      <td>\"It has no side effect, I take it in combinati...</td>\n",
       "      <td>9.0</td>\n",
       "    </tr>\n",
       "    <tr>\n",
       "      <th>1</th>\n",
       "      <td>\"My son is halfway through his fourth week of ...</td>\n",
       "      <td>8.0</td>\n",
       "    </tr>\n",
       "    <tr>\n",
       "      <th>2</th>\n",
       "      <td>\"I used to take another oral contraceptive, wh...</td>\n",
       "      <td>5.0</td>\n",
       "    </tr>\n",
       "    <tr>\n",
       "      <th>3</th>\n",
       "      <td>\"This is my first time using any form of birth...</td>\n",
       "      <td>8.0</td>\n",
       "    </tr>\n",
       "    <tr>\n",
       "      <th>4</th>\n",
       "      <td>\"Suboxone has completely turned my life around...</td>\n",
       "      <td>9.0</td>\n",
       "    </tr>\n",
       "    <tr>\n",
       "      <th>5</th>\n",
       "      <td>\"2nd day on 5mg started to work with rock hard...</td>\n",
       "      <td>2.0</td>\n",
       "    </tr>\n",
       "  </tbody>\n",
       "</table>\n",
       "</div>"
      ],
      "text/plain": [
       "                                              review  rating\n",
       "0  \"It has no side effect, I take it in combinati...     9.0\n",
       "1  \"My son is halfway through his fourth week of ...     8.0\n",
       "2  \"I used to take another oral contraceptive, wh...     5.0\n",
       "3  \"This is my first time using any form of birth...     8.0\n",
       "4  \"Suboxone has completely turned my life around...     9.0\n",
       "5  \"2nd day on 5mg started to work with rock hard...     2.0"
      ]
     },
     "execution_count": 4,
     "metadata": {},
     "output_type": "execute_result"
    }
   ],
   "source": [
    "train.head(6) # contains negative, neutral, and positive reviews"
   ]
  },
  {
   "cell_type": "code",
   "execution_count": 5,
   "id": "hundred-family",
   "metadata": {},
   "outputs": [
    {
     "data": {
      "text/html": [
       "<div>\n",
       "<style scoped>\n",
       "    .dataframe tbody tr th:only-of-type {\n",
       "        vertical-align: middle;\n",
       "    }\n",
       "\n",
       "    .dataframe tbody tr th {\n",
       "        vertical-align: top;\n",
       "    }\n",
       "\n",
       "    .dataframe thead th {\n",
       "        text-align: right;\n",
       "    }\n",
       "</style>\n",
       "<table border=\"1\" class=\"dataframe\">\n",
       "  <thead>\n",
       "    <tr style=\"text-align: right;\">\n",
       "      <th></th>\n",
       "      <th>review</th>\n",
       "      <th>rating</th>\n",
       "    </tr>\n",
       "  </thead>\n",
       "  <tbody>\n",
       "    <tr>\n",
       "      <th>53759</th>\n",
       "      <td>\"I was on Microgestin for about 3 years. Over ...</td>\n",
       "      <td>6.0</td>\n",
       "    </tr>\n",
       "    <tr>\n",
       "      <th>53760</th>\n",
       "      <td>\"I started taking Apri about 7 months ago. My ...</td>\n",
       "      <td>9.0</td>\n",
       "    </tr>\n",
       "    <tr>\n",
       "      <th>53761</th>\n",
       "      <td>\"I have taken Tamoxifen for 5 years. Side effe...</td>\n",
       "      <td>10.0</td>\n",
       "    </tr>\n",
       "    <tr>\n",
       "      <th>53762</th>\n",
       "      <td>\"I&amp;#039;ve been taking Lexapro (escitaploprgra...</td>\n",
       "      <td>9.0</td>\n",
       "    </tr>\n",
       "    <tr>\n",
       "      <th>53763</th>\n",
       "      <td>\"I&amp;#039;m married, 34 years old and I have no ...</td>\n",
       "      <td>8.0</td>\n",
       "    </tr>\n",
       "    <tr>\n",
       "      <th>53764</th>\n",
       "      <td>\"I was prescribed Nucynta for severe neck/shou...</td>\n",
       "      <td>1.0</td>\n",
       "    </tr>\n",
       "    <tr>\n",
       "      <th>53765</th>\n",
       "      <td>\"It works!!!\"</td>\n",
       "      <td>9.0</td>\n",
       "    </tr>\n",
       "  </tbody>\n",
       "</table>\n",
       "</div>"
      ],
      "text/plain": [
       "                                                  review  rating\n",
       "53759  \"I was on Microgestin for about 3 years. Over ...     6.0\n",
       "53760  \"I started taking Apri about 7 months ago. My ...     9.0\n",
       "53761  \"I have taken Tamoxifen for 5 years. Side effe...    10.0\n",
       "53762  \"I&#039;ve been taking Lexapro (escitaploprgra...     9.0\n",
       "53763  \"I&#039;m married, 34 years old and I have no ...     8.0\n",
       "53764  \"I was prescribed Nucynta for severe neck/shou...     1.0\n",
       "53765                                      \"It works!!!\"     9.0"
      ]
     },
     "execution_count": 5,
     "metadata": {},
     "output_type": "execute_result"
    }
   ],
   "source": [
    "test.tail(7) # contains negative, neutral, and positive reviews"
   ]
  },
  {
   "cell_type": "markdown",
   "id": "fifty-nature",
   "metadata": {},
   "source": [
    "### Rating to Sentiment\n",
    "Now, we will want to convert the rating to sentiment based on the following criteria:\n",
    "- Ratings 1-3 correlate highly with negative sentiment.\n",
    "- Ratings 4-6 correlate mostly with netural sentiment (both positive and negative).\n",
    "- Ratings 7-10 correlate highly with positive sentiment."
   ]
  },
  {
   "cell_type": "code",
   "execution_count": 6,
   "id": "european-series",
   "metadata": {},
   "outputs": [],
   "source": [
    "def rating_to_sentiment(data):\n",
    "    '''\n",
    "    Turn an array of ratings into sentiment values based on numerical value, broken down by:\n",
    "    1-3: negative (0)\n",
    "    4-6: neutral (1)\n",
    "    7-10: positive (2)\n",
    "    '''\n",
    "    assert np.unique(sorted(data.rating.unique()) == np.arange(1,11)) == True, 'Ratings out of bounds'\n",
    "    CONDITION = lambda x: 0 if x in range(1,4) else (1 if x in range(4,7) else 2)\n",
    "    data.rating = data.rating.apply(CONDITION)\n",
    "    return None"
   ]
  },
  {
   "cell_type": "code",
   "execution_count": 7,
   "id": "large-devices",
   "metadata": {},
   "outputs": [
    {
     "data": {
      "text/html": [
       "<div>\n",
       "<style scoped>\n",
       "    .dataframe tbody tr th:only-of-type {\n",
       "        vertical-align: middle;\n",
       "    }\n",
       "\n",
       "    .dataframe tbody tr th {\n",
       "        vertical-align: top;\n",
       "    }\n",
       "\n",
       "    .dataframe thead th {\n",
       "        text-align: right;\n",
       "    }\n",
       "</style>\n",
       "<table border=\"1\" class=\"dataframe\">\n",
       "  <thead>\n",
       "    <tr style=\"text-align: right;\">\n",
       "      <th></th>\n",
       "      <th>review</th>\n",
       "      <th>rating</th>\n",
       "    </tr>\n",
       "  </thead>\n",
       "  <tbody>\n",
       "    <tr>\n",
       "      <th>0</th>\n",
       "      <td>\"It has no side effect, I take it in combinati...</td>\n",
       "      <td>2</td>\n",
       "    </tr>\n",
       "    <tr>\n",
       "      <th>1</th>\n",
       "      <td>\"My son is halfway through his fourth week of ...</td>\n",
       "      <td>2</td>\n",
       "    </tr>\n",
       "    <tr>\n",
       "      <th>2</th>\n",
       "      <td>\"I used to take another oral contraceptive, wh...</td>\n",
       "      <td>1</td>\n",
       "    </tr>\n",
       "    <tr>\n",
       "      <th>3</th>\n",
       "      <td>\"This is my first time using any form of birth...</td>\n",
       "      <td>2</td>\n",
       "    </tr>\n",
       "    <tr>\n",
       "      <th>4</th>\n",
       "      <td>\"Suboxone has completely turned my life around...</td>\n",
       "      <td>2</td>\n",
       "    </tr>\n",
       "    <tr>\n",
       "      <th>5</th>\n",
       "      <td>\"2nd day on 5mg started to work with rock hard...</td>\n",
       "      <td>0</td>\n",
       "    </tr>\n",
       "  </tbody>\n",
       "</table>\n",
       "</div>"
      ],
      "text/plain": [
       "                                              review  rating\n",
       "0  \"It has no side effect, I take it in combinati...       2\n",
       "1  \"My son is halfway through his fourth week of ...       2\n",
       "2  \"I used to take another oral contraceptive, wh...       1\n",
       "3  \"This is my first time using any form of birth...       2\n",
       "4  \"Suboxone has completely turned my life around...       2\n",
       "5  \"2nd day on 5mg started to work with rock hard...       0"
      ]
     },
     "execution_count": 7,
     "metadata": {},
     "output_type": "execute_result"
    }
   ],
   "source": [
    "rating_to_sentiment(train)\n",
    "train.head(6)"
   ]
  },
  {
   "cell_type": "code",
   "execution_count": 8,
   "id": "steady-soundtrack",
   "metadata": {},
   "outputs": [
    {
     "data": {
      "text/html": [
       "<div>\n",
       "<style scoped>\n",
       "    .dataframe tbody tr th:only-of-type {\n",
       "        vertical-align: middle;\n",
       "    }\n",
       "\n",
       "    .dataframe tbody tr th {\n",
       "        vertical-align: top;\n",
       "    }\n",
       "\n",
       "    .dataframe thead th {\n",
       "        text-align: right;\n",
       "    }\n",
       "</style>\n",
       "<table border=\"1\" class=\"dataframe\">\n",
       "  <thead>\n",
       "    <tr style=\"text-align: right;\">\n",
       "      <th></th>\n",
       "      <th>review</th>\n",
       "      <th>rating</th>\n",
       "    </tr>\n",
       "  </thead>\n",
       "  <tbody>\n",
       "    <tr>\n",
       "      <th>53759</th>\n",
       "      <td>\"I was on Microgestin for about 3 years. Over ...</td>\n",
       "      <td>1</td>\n",
       "    </tr>\n",
       "    <tr>\n",
       "      <th>53760</th>\n",
       "      <td>\"I started taking Apri about 7 months ago. My ...</td>\n",
       "      <td>2</td>\n",
       "    </tr>\n",
       "    <tr>\n",
       "      <th>53761</th>\n",
       "      <td>\"I have taken Tamoxifen for 5 years. Side effe...</td>\n",
       "      <td>2</td>\n",
       "    </tr>\n",
       "    <tr>\n",
       "      <th>53762</th>\n",
       "      <td>\"I&amp;#039;ve been taking Lexapro (escitaploprgra...</td>\n",
       "      <td>2</td>\n",
       "    </tr>\n",
       "    <tr>\n",
       "      <th>53763</th>\n",
       "      <td>\"I&amp;#039;m married, 34 years old and I have no ...</td>\n",
       "      <td>2</td>\n",
       "    </tr>\n",
       "    <tr>\n",
       "      <th>53764</th>\n",
       "      <td>\"I was prescribed Nucynta for severe neck/shou...</td>\n",
       "      <td>0</td>\n",
       "    </tr>\n",
       "    <tr>\n",
       "      <th>53765</th>\n",
       "      <td>\"It works!!!\"</td>\n",
       "      <td>2</td>\n",
       "    </tr>\n",
       "  </tbody>\n",
       "</table>\n",
       "</div>"
      ],
      "text/plain": [
       "                                                  review  rating\n",
       "53759  \"I was on Microgestin for about 3 years. Over ...       1\n",
       "53760  \"I started taking Apri about 7 months ago. My ...       2\n",
       "53761  \"I have taken Tamoxifen for 5 years. Side effe...       2\n",
       "53762  \"I&#039;ve been taking Lexapro (escitaploprgra...       2\n",
       "53763  \"I&#039;m married, 34 years old and I have no ...       2\n",
       "53764  \"I was prescribed Nucynta for severe neck/shou...       0\n",
       "53765                                      \"It works!!!\"       2"
      ]
     },
     "execution_count": 8,
     "metadata": {},
     "output_type": "execute_result"
    }
   ],
   "source": [
    "rating_to_sentiment(test)\n",
    "test.tail(7)"
   ]
  },
  {
   "cell_type": "markdown",
   "id": "following-jonathan",
   "metadata": {},
   "source": [
    "Split the data into their corresponding inputs and labels so that we can process them for the model."
   ]
  },
  {
   "cell_type": "code",
   "execution_count": 9,
   "id": "rising-object",
   "metadata": {},
   "outputs": [],
   "source": [
    "train_X, train_y = train['review'].values, train['rating'].values\n",
    "\n",
    "test_X, test_y = test['review'].values, test['rating'].values"
   ]
  },
  {
   "cell_type": "code",
   "execution_count": 18,
   "id": "pregnant-validity",
   "metadata": {},
   "outputs": [
    {
     "name": "stdout",
     "output_type": "stream",
     "text": [
      "\"I have insomnia, it&#039;s horrible. My story begins with my PCP prescribing me Prozac to help with intestinal issues, because I was desperate I tried it, I was on it for 3 weeks. Stopped because of insomnia. Then I was prescribed Ativan, it out me out, but was very addicting. I had rebound insomnia. Then after about 14 days I hardly any sleep l tried the doctor one more time. I asked him about Trazadone. He told me that was a good medication for insomnia. He put me on 25 mgs, but stated I may have to figure out what dosage is best for me. I am currently taking 100 mgs, which is on the low range of what is prescribed, 400 mgs being at the high end for insomnia. I have the dry mouth and nasel congestion. I can live with that, I sleep now, yeah...\" 2\n"
     ]
    }
   ],
   "source": [
    "# Print a random review to see if it was correctly processed\n",
    "print(train_X[21], train_y[21])"
   ]
  },
  {
   "cell_type": "markdown",
   "id": "motivated-packet",
   "metadata": {},
   "source": [
    "### Review Formatting\n",
    "*To be filled in...*"
   ]
  },
  {
   "cell_type": "code",
   "execution_count": 11,
   "id": "ranging-devil",
   "metadata": {},
   "outputs": [],
   "source": [
    "def review_to_words(review):\n",
    "    nltk.download(\"stopwords\", quiet=True)\n",
    "    stemmer = PorterStemmer()\n",
    "    \n",
    "    text = BeautifulSoup(review, \"html.parser\").get_text() # Remove HTML tags\n",
    "    text = re.sub(r\"[^a-zA-Z0-9]\", \" \", text.lower()) # Convert to lower case\n",
    "    words = text.split() # Split string into words\n",
    "    words = [w for w in words if w not in stopwords.words(\"english\")] # Remove stopwords\n",
    "    words = [PorterStemmer().stem(w) for w in words] # stem\n",
    "    \n",
    "    return words"
   ]
  },
  {
   "cell_type": "code",
   "execution_count": null,
   "id": "rental-coalition",
   "metadata": {},
   "outputs": [],
   "source": []
  },
  {
   "cell_type": "code",
   "execution_count": null,
   "id": "caring-substance",
   "metadata": {},
   "outputs": [],
   "source": []
  },
  {
   "cell_type": "code",
   "execution_count": null,
   "id": "charming-saint",
   "metadata": {},
   "outputs": [],
   "source": []
  },
  {
   "cell_type": "code",
   "execution_count": null,
   "id": "derived-language",
   "metadata": {},
   "outputs": [],
   "source": []
  },
  {
   "cell_type": "code",
   "execution_count": null,
   "id": "tough-miami",
   "metadata": {},
   "outputs": [],
   "source": []
  },
  {
   "cell_type": "code",
   "execution_count": null,
   "id": "chicken-writer",
   "metadata": {},
   "outputs": [],
   "source": [
    "train_X, train_y = shuffle(train_X, train_y, random_state=42)\n",
    "\n",
    "train_X, val_X, train_y, val_y = train_test_split(train_X, train_y, test_size=0.2, random_state=42)\n",
    "\n",
    "print(f'Training size: {len(train_X)}\\nValidation size: {len(val_X)}')"
   ]
  },
  {
   "cell_type": "code",
   "execution_count": null,
   "id": "christian-terry",
   "metadata": {},
   "outputs": [],
   "source": [
    "fig, axes = plt.subplots(1, 3, figsize=(14,4))\n",
    "sns.countplot(ax=axes[0], x=train_y)\n",
    "axes[0].set_title('Training Distribution')\n",
    "axes[0].set_ylabel('')\n",
    "sns.countplot(ax=axes[1], x=val_y)\n",
    "axes[1].set_title('Validation Distribution')\n",
    "axes[1].set_ylabel('')\n",
    "sns.countplot(ax=axes[2], x=test_y)\n",
    "axes[2].set_title('Test Distribution')\n",
    "axes[2].set_ylabel('')\n",
    "\n",
    "plt.tight_layout()\n",
    "plt.show();"
   ]
  },
  {
   "cell_type": "markdown",
   "id": "occupied-citizen",
   "metadata": {},
   "source": [
    "It looks that we kept the same distribution for each data set. It is important to note a large class imbalance, with a majority of the data being positive. The base accuracy would be if the model classified all reviews as 2 would be around 66% (calculated using all three data sets). Knowing this, we now expect our model accuracy to be greatly more than 66% if it is correctly learning."
   ]
  },
  {
   "cell_type": "code",
   "execution_count": null,
   "id": "official-thing",
   "metadata": {},
   "outputs": [],
   "source": []
  },
  {
   "cell_type": "code",
   "execution_count": null,
   "id": "swedish-smooth",
   "metadata": {},
   "outputs": [],
   "source": []
  }
 ],
 "metadata": {
  "kernelspec": {
   "display_name": "conda_pytorch_p36",
   "language": "python",
   "name": "conda_pytorch_p36"
  },
  "language_info": {
   "codemirror_mode": {
    "name": "ipython",
    "version": 3
   },
   "file_extension": ".py",
   "mimetype": "text/x-python",
   "name": "python",
   "nbconvert_exporter": "python",
   "pygments_lexer": "ipython3",
   "version": "3.6.10"
  }
 },
 "nbformat": 4,
 "nbformat_minor": 5
}
