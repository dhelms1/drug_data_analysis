{
 "cells": [
  {
   "cell_type": "markdown",
   "id": "active-advertiser",
   "metadata": {},
   "source": [
    "# Modeling Notebook\n",
    "\n",
    "---\n",
    "\n",
    "Now that we have explored the data and have a better understanding of it, we will want to create a model using PyTorch that can assess the sentiment of the review and correctly classify it. The notebook will be broken down into the following sections:\n",
    "\n",
    "1. Data Preprocessing\n",
    "    - Convert rating to sentiment based on findings from previous notebook.\n",
    "    - Split the training data into train/validation sets\n",
    "    - Remove html tags and tokenize inputs for the reviews in all data sets.\n",
    "    - ...\n",
    "2. Modeling\n",
    "    - Create the ..."
   ]
  },
  {
   "cell_type": "code",
   "execution_count": 101,
   "id": "wrong-jefferson",
   "metadata": {},
   "outputs": [],
   "source": [
    "# Import General Libraries\n",
    "import numpy as np\n",
    "import pandas as pd\n",
    "import matplotlib.pyplot as plt\n",
    "import seaborn as sns\n",
    "\n",
    "# Set style parameters for graphs\n",
    "sns.set_style(\"darkgrid\", {'axes.edgecolor': 'black'})\n",
    "sns.set_palette(palette=sns.color_palette(\"viridis\", 3))\n",
    "plt.rcParams['font.size'] = 12\n",
    "plt.rcParams['axes.titlesize'] = 16\n",
    "plt.rcParams[\"legend.edgecolor\"] = 'black'\n",
    "\n",
    "# Import Data Preprocessing Libraries\n",
    "from sklearn.model_selection import train_test_split\n",
    "from sklearn.utils import shuffle\n",
    "\n",
    "import nltk\n",
    "from nltk.corpus import stopwords\n",
    "from nltk.stem.porter import *\n",
    "import re\n",
    "from bs4 import BeautifulSoup"
   ]
  },
  {
   "cell_type": "markdown",
   "id": "abroad-field",
   "metadata": {},
   "source": [
    "# Data Preprocessing\n",
    "\n",
    "Before we can begin to build the model, we will need to read in and process the data so it is in the correct format. This involves dropping all unnecessary features, converting rating to sentiment based on previous findings, and splitting the data into train, validation, and test sets."
   ]
  },
  {
   "cell_type": "code",
   "execution_count": 56,
   "id": "difficult-louis",
   "metadata": {},
   "outputs": [],
   "source": [
    "train = pd.read_csv('data/drugsComTrain_raw.tsv', sep='\\t')\n",
    "test = pd.read_csv('data/drugsComTest_raw.tsv', sep='\\t')"
   ]
  },
  {
   "cell_type": "code",
   "execution_count": 57,
   "id": "spatial-exemption",
   "metadata": {},
   "outputs": [],
   "source": [
    "train = train.iloc[:, 3:5]\n",
    "test = test.iloc[:, 3:5]"
   ]
  },
  {
   "cell_type": "code",
   "execution_count": 58,
   "id": "precious-designer",
   "metadata": {},
   "outputs": [
    {
     "data": {
      "text/html": [
       "<div>\n",
       "<style scoped>\n",
       "    .dataframe tbody tr th:only-of-type {\n",
       "        vertical-align: middle;\n",
       "    }\n",
       "\n",
       "    .dataframe tbody tr th {\n",
       "        vertical-align: top;\n",
       "    }\n",
       "\n",
       "    .dataframe thead th {\n",
       "        text-align: right;\n",
       "    }\n",
       "</style>\n",
       "<table border=\"1\" class=\"dataframe\">\n",
       "  <thead>\n",
       "    <tr style=\"text-align: right;\">\n",
       "      <th></th>\n",
       "      <th>review</th>\n",
       "      <th>rating</th>\n",
       "    </tr>\n",
       "  </thead>\n",
       "  <tbody>\n",
       "    <tr>\n",
       "      <th>0</th>\n",
       "      <td>\"It has no side effect, I take it in combinati...</td>\n",
       "      <td>9.0</td>\n",
       "    </tr>\n",
       "    <tr>\n",
       "      <th>1</th>\n",
       "      <td>\"My son is halfway through his fourth week of ...</td>\n",
       "      <td>8.0</td>\n",
       "    </tr>\n",
       "    <tr>\n",
       "      <th>2</th>\n",
       "      <td>\"I used to take another oral contraceptive, wh...</td>\n",
       "      <td>5.0</td>\n",
       "    </tr>\n",
       "    <tr>\n",
       "      <th>3</th>\n",
       "      <td>\"This is my first time using any form of birth...</td>\n",
       "      <td>8.0</td>\n",
       "    </tr>\n",
       "    <tr>\n",
       "      <th>4</th>\n",
       "      <td>\"Suboxone has completely turned my life around...</td>\n",
       "      <td>9.0</td>\n",
       "    </tr>\n",
       "    <tr>\n",
       "      <th>5</th>\n",
       "      <td>\"2nd day on 5mg started to work with rock hard...</td>\n",
       "      <td>2.0</td>\n",
       "    </tr>\n",
       "  </tbody>\n",
       "</table>\n",
       "</div>"
      ],
      "text/plain": [
       "                                              review  rating\n",
       "0  \"It has no side effect, I take it in combinati...     9.0\n",
       "1  \"My son is halfway through his fourth week of ...     8.0\n",
       "2  \"I used to take another oral contraceptive, wh...     5.0\n",
       "3  \"This is my first time using any form of birth...     8.0\n",
       "4  \"Suboxone has completely turned my life around...     9.0\n",
       "5  \"2nd day on 5mg started to work with rock hard...     2.0"
      ]
     },
     "execution_count": 58,
     "metadata": {},
     "output_type": "execute_result"
    }
   ],
   "source": [
    "train.head(6) # contains negative, neutral, and positive reviews"
   ]
  },
  {
   "cell_type": "code",
   "execution_count": 65,
   "id": "civil-thanks",
   "metadata": {},
   "outputs": [
    {
     "data": {
      "text/html": [
       "<div>\n",
       "<style scoped>\n",
       "    .dataframe tbody tr th:only-of-type {\n",
       "        vertical-align: middle;\n",
       "    }\n",
       "\n",
       "    .dataframe tbody tr th {\n",
       "        vertical-align: top;\n",
       "    }\n",
       "\n",
       "    .dataframe thead th {\n",
       "        text-align: right;\n",
       "    }\n",
       "</style>\n",
       "<table border=\"1\" class=\"dataframe\">\n",
       "  <thead>\n",
       "    <tr style=\"text-align: right;\">\n",
       "      <th></th>\n",
       "      <th>review</th>\n",
       "      <th>rating</th>\n",
       "    </tr>\n",
       "  </thead>\n",
       "  <tbody>\n",
       "    <tr>\n",
       "      <th>53759</th>\n",
       "      <td>\"I was on Microgestin for about 3 years. Over ...</td>\n",
       "      <td>6.0</td>\n",
       "    </tr>\n",
       "    <tr>\n",
       "      <th>53760</th>\n",
       "      <td>\"I started taking Apri about 7 months ago. My ...</td>\n",
       "      <td>9.0</td>\n",
       "    </tr>\n",
       "    <tr>\n",
       "      <th>53761</th>\n",
       "      <td>\"I have taken Tamoxifen for 5 years. Side effe...</td>\n",
       "      <td>10.0</td>\n",
       "    </tr>\n",
       "    <tr>\n",
       "      <th>53762</th>\n",
       "      <td>\"I&amp;#039;ve been taking Lexapro (escitaploprgra...</td>\n",
       "      <td>9.0</td>\n",
       "    </tr>\n",
       "    <tr>\n",
       "      <th>53763</th>\n",
       "      <td>\"I&amp;#039;m married, 34 years old and I have no ...</td>\n",
       "      <td>8.0</td>\n",
       "    </tr>\n",
       "    <tr>\n",
       "      <th>53764</th>\n",
       "      <td>\"I was prescribed Nucynta for severe neck/shou...</td>\n",
       "      <td>1.0</td>\n",
       "    </tr>\n",
       "    <tr>\n",
       "      <th>53765</th>\n",
       "      <td>\"It works!!!\"</td>\n",
       "      <td>9.0</td>\n",
       "    </tr>\n",
       "  </tbody>\n",
       "</table>\n",
       "</div>"
      ],
      "text/plain": [
       "                                                  review  rating\n",
       "53759  \"I was on Microgestin for about 3 years. Over ...     6.0\n",
       "53760  \"I started taking Apri about 7 months ago. My ...     9.0\n",
       "53761  \"I have taken Tamoxifen for 5 years. Side effe...    10.0\n",
       "53762  \"I&#039;ve been taking Lexapro (escitaploprgra...     9.0\n",
       "53763  \"I&#039;m married, 34 years old and I have no ...     8.0\n",
       "53764  \"I was prescribed Nucynta for severe neck/shou...     1.0\n",
       "53765                                      \"It works!!!\"     9.0"
      ]
     },
     "execution_count": 65,
     "metadata": {},
     "output_type": "execute_result"
    }
   ],
   "source": [
    "test.tail(7) # contains negative, neutral, and positive reviews"
   ]
  },
  {
   "cell_type": "markdown",
   "id": "serial-northwest",
   "metadata": {},
   "source": [
    "### Rating to Sentiment\n",
    "Now, we will want to convert the rating to sentiment based on the following criteria:\n",
    "- Ratings 1-3 correlate highly with negative sentiment.\n",
    "- Ratings 4-6 correlate mostly with netural sentiment (both positive and negative).\n",
    "- Ratings 7-10 correlate highly with positive sentiment."
   ]
  },
  {
   "cell_type": "code",
   "execution_count": 59,
   "id": "documented-chase",
   "metadata": {},
   "outputs": [],
   "source": [
    "def rating_to_sentiment(data):\n",
    "    '''\n",
    "    Turn an array of ratings into sentiment values based on numerical value, broken down by:\n",
    "    1-3: negative (0)\n",
    "    4-6: neutral (1)\n",
    "    7-10: positive (2)\n",
    "    '''\n",
    "    assert np.unique(sorted(data.rating.unique()) == np.arange(1,11)) == True, 'Ratings out of bounds'\n",
    "    CONDITION = lambda x: 0 if x in range(1,4) else (1 if x in range(4,7) else 2)\n",
    "    data.rating = data.rating.apply(CONDITION)\n",
    "    return None"
   ]
  },
  {
   "cell_type": "code",
   "execution_count": 66,
   "id": "composed-stack",
   "metadata": {},
   "outputs": [
    {
     "data": {
      "text/html": [
       "<div>\n",
       "<style scoped>\n",
       "    .dataframe tbody tr th:only-of-type {\n",
       "        vertical-align: middle;\n",
       "    }\n",
       "\n",
       "    .dataframe tbody tr th {\n",
       "        vertical-align: top;\n",
       "    }\n",
       "\n",
       "    .dataframe thead th {\n",
       "        text-align: right;\n",
       "    }\n",
       "</style>\n",
       "<table border=\"1\" class=\"dataframe\">\n",
       "  <thead>\n",
       "    <tr style=\"text-align: right;\">\n",
       "      <th></th>\n",
       "      <th>review</th>\n",
       "      <th>rating</th>\n",
       "    </tr>\n",
       "  </thead>\n",
       "  <tbody>\n",
       "    <tr>\n",
       "      <th>0</th>\n",
       "      <td>\"It has no side effect, I take it in combinati...</td>\n",
       "      <td>2</td>\n",
       "    </tr>\n",
       "    <tr>\n",
       "      <th>1</th>\n",
       "      <td>\"My son is halfway through his fourth week of ...</td>\n",
       "      <td>2</td>\n",
       "    </tr>\n",
       "    <tr>\n",
       "      <th>2</th>\n",
       "      <td>\"I used to take another oral contraceptive, wh...</td>\n",
       "      <td>1</td>\n",
       "    </tr>\n",
       "    <tr>\n",
       "      <th>3</th>\n",
       "      <td>\"This is my first time using any form of birth...</td>\n",
       "      <td>2</td>\n",
       "    </tr>\n",
       "    <tr>\n",
       "      <th>4</th>\n",
       "      <td>\"Suboxone has completely turned my life around...</td>\n",
       "      <td>2</td>\n",
       "    </tr>\n",
       "    <tr>\n",
       "      <th>5</th>\n",
       "      <td>\"2nd day on 5mg started to work with rock hard...</td>\n",
       "      <td>0</td>\n",
       "    </tr>\n",
       "  </tbody>\n",
       "</table>\n",
       "</div>"
      ],
      "text/plain": [
       "                                              review  rating\n",
       "0  \"It has no side effect, I take it in combinati...       2\n",
       "1  \"My son is halfway through his fourth week of ...       2\n",
       "2  \"I used to take another oral contraceptive, wh...       1\n",
       "3  \"This is my first time using any form of birth...       2\n",
       "4  \"Suboxone has completely turned my life around...       2\n",
       "5  \"2nd day on 5mg started to work with rock hard...       0"
      ]
     },
     "execution_count": 66,
     "metadata": {},
     "output_type": "execute_result"
    }
   ],
   "source": [
    "rating_to_sentiment(train)\n",
    "train.head(6)"
   ]
  },
  {
   "cell_type": "code",
   "execution_count": 67,
   "id": "outdoor-surgery",
   "metadata": {},
   "outputs": [
    {
     "data": {
      "text/html": [
       "<div>\n",
       "<style scoped>\n",
       "    .dataframe tbody tr th:only-of-type {\n",
       "        vertical-align: middle;\n",
       "    }\n",
       "\n",
       "    .dataframe tbody tr th {\n",
       "        vertical-align: top;\n",
       "    }\n",
       "\n",
       "    .dataframe thead th {\n",
       "        text-align: right;\n",
       "    }\n",
       "</style>\n",
       "<table border=\"1\" class=\"dataframe\">\n",
       "  <thead>\n",
       "    <tr style=\"text-align: right;\">\n",
       "      <th></th>\n",
       "      <th>review</th>\n",
       "      <th>rating</th>\n",
       "    </tr>\n",
       "  </thead>\n",
       "  <tbody>\n",
       "    <tr>\n",
       "      <th>53759</th>\n",
       "      <td>\"I was on Microgestin for about 3 years. Over ...</td>\n",
       "      <td>1</td>\n",
       "    </tr>\n",
       "    <tr>\n",
       "      <th>53760</th>\n",
       "      <td>\"I started taking Apri about 7 months ago. My ...</td>\n",
       "      <td>2</td>\n",
       "    </tr>\n",
       "    <tr>\n",
       "      <th>53761</th>\n",
       "      <td>\"I have taken Tamoxifen for 5 years. Side effe...</td>\n",
       "      <td>2</td>\n",
       "    </tr>\n",
       "    <tr>\n",
       "      <th>53762</th>\n",
       "      <td>\"I&amp;#039;ve been taking Lexapro (escitaploprgra...</td>\n",
       "      <td>2</td>\n",
       "    </tr>\n",
       "    <tr>\n",
       "      <th>53763</th>\n",
       "      <td>\"I&amp;#039;m married, 34 years old and I have no ...</td>\n",
       "      <td>2</td>\n",
       "    </tr>\n",
       "    <tr>\n",
       "      <th>53764</th>\n",
       "      <td>\"I was prescribed Nucynta for severe neck/shou...</td>\n",
       "      <td>0</td>\n",
       "    </tr>\n",
       "    <tr>\n",
       "      <th>53765</th>\n",
       "      <td>\"It works!!!\"</td>\n",
       "      <td>2</td>\n",
       "    </tr>\n",
       "  </tbody>\n",
       "</table>\n",
       "</div>"
      ],
      "text/plain": [
       "                                                  review  rating\n",
       "53759  \"I was on Microgestin for about 3 years. Over ...       1\n",
       "53760  \"I started taking Apri about 7 months ago. My ...       2\n",
       "53761  \"I have taken Tamoxifen for 5 years. Side effe...       2\n",
       "53762  \"I&#039;ve been taking Lexapro (escitaploprgra...       2\n",
       "53763  \"I&#039;m married, 34 years old and I have no ...       2\n",
       "53764  \"I was prescribed Nucynta for severe neck/shou...       0\n",
       "53765                                      \"It works!!!\"       2"
      ]
     },
     "execution_count": 67,
     "metadata": {},
     "output_type": "execute_result"
    }
   ],
   "source": [
    "rating_to_sentiment(test)\n",
    "test.tail(7)"
   ]
  },
  {
   "cell_type": "markdown",
   "id": "tamil-horizon",
   "metadata": {},
   "source": [
    "Now we will split the training data into two sets: training and validation. We will want to use an 80/20 split, as well as shuffling it to ensure we get the most balance possible. We will seperate data into X and y variables, contain reviews and ratings respectively."
   ]
  },
  {
   "cell_type": "code",
   "execution_count": 90,
   "id": "accepted-disco",
   "metadata": {},
   "outputs": [
    {
     "name": "stdout",
     "output_type": "stream",
     "text": [
      "Training size: 129037\n",
      "Validation size: 32260\n"
     ]
    }
   ],
   "source": [
    "train_X, train_y = train['review'].values, train['rating'].values\n",
    "\n",
    "train_X, train_y = shuffle(train_X, train_y, random_state=42)\n",
    "\n",
    "train_X, val_X, train_y, val_y = train_test_split(train_X, train_y, test_size=0.2, random_state=42)\n",
    "\n",
    "print(f'Training size: {len(train_X)}\\nValidation size: {len(val_X)}')\n",
    "\n",
    "test_X, test_y = test['review'].values, test['rating'].values"
   ]
  },
  {
   "cell_type": "code",
   "execution_count": 91,
   "id": "fuzzy-holmes",
   "metadata": {},
   "outputs": [
    {
     "name": "stdout",
     "output_type": "stream",
     "text": [
      "\"This is my third different antibiotic for a deep leg wound that was surgically debrided 4 weeks ago. I have taken Bactrim DS many times before for bladder infections with few side effects.\r",
      "\r\n",
      "\r",
      "\r\n",
      "This time I want to die. I ache all over. I am nauseated and haven&#039;t eaten anything except a few oranges for 4 days. I am drinking ginger ale and water. I can barely walk because of weakness. My cat even walks ahead of me and stops to look back at me every few steps instead of us racing.  \r",
      "\r\n",
      "\r",
      "\r\n",
      "Lest anyone suggest I do not know how to take this med, I am a Registered Nurse and there is no need to question my proper dosing regimen. If it weren&#039;t for the fact that I want to keep my lower leg and foot, I would toss this medicine in the trash.\" 0\n"
     ]
    }
   ],
   "source": [
    "# Print a random review to see if it was correctly processed\n",
    "print(train_X[20], train_y[20])"
   ]
  },
  {
   "cell_type": "code",
   "execution_count": 122,
   "id": "reasonable-gauge",
   "metadata": {},
   "outputs": [
    {
     "data": {
      "image/png": "[encoded data removed]",
      "text/plain": [
       "<Figure size 1008x288 with 3 Axes>"
      ]
     },
     "metadata": {},
     "output_type": "display_data"
    }
   ],
   "source": [
    "fig, axes = plt.subplots(1, 3, figsize=(14,4))\n",
    "sns.countplot(ax=axes[0], x=train_y)\n",
    "axes[0].set_title('Training Distribution')\n",
    "axes[0].set_ylabel('')\n",
    "sns.countplot(ax=axes[1], x=val_y)\n",
    "axes[1].set_title('Validation Distribution')\n",
    "axes[1].set_ylabel('')\n",
    "sns.countplot(ax=axes[2], x=test_y)\n",
    "axes[2].set_title('Test Distribution')\n",
    "axes[2].set_ylabel('')\n",
    "\n",
    "plt.tight_layout()\n",
    "plt.show();"
   ]
  },
  {
   "cell_type": "markdown",
   "id": "affected-estonia",
   "metadata": {},
   "source": [
    "It looks that we kept the same distribution for each data set. It is important to note a large class imbalance, with a majority of the data being positive. The base accuracy would be if the model classified all reviews as 2 would be around 66% (calculated using all three data sets). Knowing this, we now expect our model accuracy to be greatly more than 66% if it is correctly learning."
   ]
  },
  {
   "cell_type": "markdown",
   "id": "weekly-lounge",
   "metadata": {},
   "source": [
    "### Review Formatting\n",
    "*To be filled in...*"
   ]
  },
  {
   "cell_type": "code",
   "execution_count": 95,
   "id": "certified-abraham",
   "metadata": {},
   "outputs": [],
   "source": [
    "def review_to_words(review):\n",
    "    nltk.download(\"stopwords\", quiet=True)\n",
    "    stemmer = PorterStemmer()\n",
    "    \n",
    "    text = BeautifulSoup(review, \"html.parser\").get_text() # Remove HTML tags\n",
    "    text = re.sub(r\"[^a-zA-Z0-9]\", \" \", text.lower()) # Convert to lower case\n",
    "    words = text.split() # Split string into words\n",
    "    words = [w for w in words if w not in stopwords.words(\"english\")] # Remove stopwords\n",
    "    words = [PorterStemmer().stem(w) for w in words] # stem\n",
    "    \n",
    "    return words"
   ]
  },
  {
   "cell_type": "code",
   "execution_count": null,
   "id": "amber-google",
   "metadata": {},
   "outputs": [],
   "source": []
  },
  {
   "cell_type": "code",
   "execution_count": null,
   "id": "exciting-checkout",
   "metadata": {},
   "outputs": [],
   "source": []
  },
  {
   "cell_type": "code",
   "execution_count": null,
   "id": "million-merchandise",
   "metadata": {},
   "outputs": [],
   "source": []
  },
  {
   "cell_type": "code",
   "execution_count": null,
   "id": "private-interstate",
   "metadata": {},
   "outputs": [],
   "source": []
  },
  {
   "cell_type": "code",
   "execution_count": null,
   "id": "enormous-stranger",
   "metadata": {},
   "outputs": [],
   "source": []
  },
  {
   "cell_type": "code",
   "execution_count": null,
   "id": "informed-transparency",
   "metadata": {},
   "outputs": [],
   "source": []
  },
  {
   "cell_type": "code",
   "execution_count": null,
   "id": "binding-assist",
   "metadata": {},
   "outputs": [],
   "source": []
  },
  {
   "cell_type": "code",
   "execution_count": null,
   "id": "passive-bubble",
   "metadata": {},
   "outputs": [],
   "source": []
  },
  {
   "cell_type": "code",
   "execution_count": null,
   "id": "diverse-atlanta",
   "metadata": {},
   "outputs": [],
   "source": []
  }
 ],
 "metadata": {
  "kernelspec": {
   "display_name": "conda_pytorch_p36",
   "language": "python",
   "name": "conda_pytorch_p36"
  },
  "language_info": {
   "codemirror_mode": {
    "name": "ipython",
    "version": 3
   },
   "file_extension": ".py",
   "mimetype": "text/x-python",
   "name": "python",
   "nbconvert_exporter": "python",
   "pygments_lexer": "ipython3",
   "version": "3.6.10"
  }
 },
 "nbformat": 4,
 "nbformat_minor": 5
}
