{
 "cells": [
  {
   "cell_type": "markdown",
   "id": "hydraulic-linux",
   "metadata": {},
   "source": [
    "# Data Exploration Notebook\n",
    "\n",
    "<img src=\"header/de_header.jpg\"  width=\"400\"/>\n",
    "\n",
    "---\n",
    "\n",
    "*The following information was taken from the UCI Machine Learning Repository*. The dataset provides patient reviews on specific drugs along with related conditions and a 10 star patient rating reflecting overall patient satisfaction. The data was obtained by crawling online pharmaceutical review sites. The data is split into a train (75%) a test (25%) partition and stored in two .tsv files. The data sets both have the following features:\n",
    "1. drugName (categorical): name of drug\n",
    "2. condition (categorical): name of condition\n",
    "3. review (text): patient review\n",
    "4. rating (numerical): 10 star patient rating\n",
    "5. date (date): date of review entry\n",
    "6. usefulCount (numerical): number of users who found review useful\n",
    "\n",
    "\n",
    "\n",
    "**Citation Requested by UCI**: Felix Gräßer, Surya Kallumadi, Hagen Malberg, and Sebastian Zaunseder. 2018. Aspect-Based Sentiment Analysis of Drug Reviews Applying Cross-Domain and Cross-Data Learning. In Proceedings of the 2018 International Conference on Digital Health (DH '18). ACM, New York, NY, USA, 121-125.\n",
    "\n",
    "---\n",
    "\n",
    "The purpose of this notebook will be to explore the training data, finding any trends or discoveries before processing it for the model (which will take place inside of the modeling notebook). Below includes topics that were explored and their corresponding secionts:\n",
    "\n",
    "1. Initial Data Exploration\n",
    "    - Asses the distribution of our numeric features and determine if any changes need to be made.\n",
    "    - Drop all missing values for exploration (and any values that are unrelated/extreme for the data).\n",
    "2. Rating and Condition Exploration\n",
    "    - ...\n",
    "    - ..."
   ]
  },
  {
   "cell_type": "markdown",
   "id": "common-trinity",
   "metadata": {},
   "source": [
    "#### Import Libraries"
   ]
  },
  {
   "cell_type": "code",
   "execution_count": 38,
   "id": "satellite-wednesday",
   "metadata": {},
   "outputs": [],
   "source": [
    "# Import General Libraries\n",
    "import os\n",
    "from pathlib import Path\n",
    "import numpy as np\n",
    "import pandas as pd\n",
    "import matplotlib.pyplot as plt\n",
    "import seaborn as sns\n",
    "\n",
    "# Set style parameters for graphs\n",
    "sns.set_style(\"darkgrid\", {'axes.edgecolor': 'black'})\n",
    "plt.rcParams['font.size'] = 12\n",
    "plt.rcParams['axes.titlesize'] = 16\n",
    "plt.rcParams[\"legend.edgecolor\"] = 'black'"
   ]
  },
  {
   "cell_type": "markdown",
   "id": "independent-conflict",
   "metadata": {},
   "source": [
    "#### Read in Data\n",
    "We want to read in data from the UCI archive directly since we are using SageMaker. For convenience, we will extract the files and move them into a new subdirectory, as well as deleting the original zip file."
   ]
  },
  {
   "cell_type": "code",
   "execution_count": 2,
   "id": "central-powder",
   "metadata": {},
   "outputs": [
    {
     "name": "stdout",
     "output_type": "stream",
     "text": [
      "--2021-02-06 21:29:50--  https://archive.ics.uci.edu/ml/machine-learning-databases/00462/drugsCom_raw.zip\n",
      "Resolving archive.ics.uci.edu (archive.ics.uci.edu)... 128.195.10.252\n",
      "Connecting to archive.ics.uci.edu (archive.ics.uci.edu)|128.195.10.252|:443... connected.\n",
      "HTTP request sent, awaiting response... 200 OK\n",
      "Length: 42989872 (41M) [application/x-httpd-php]\n",
      "Saving to: ‘drugsCom_raw.zip’\n",
      "\n",
      "drugsCom_raw.zip    100%[===================>]  41.00M  40.2MB/s    in 1.0s    \n",
      "\n",
      "2021-02-06 21:29:51 (40.2 MB/s) - ‘drugsCom_raw.zip’ saved [42989872/42989872]\n",
      "\n",
      "Archive:  drugsCom_raw.zip\n",
      "  inflating: drugsComTest_raw.tsv    \n",
      "  inflating: drugsComTrain_raw.tsv   \n"
     ]
    }
   ],
   "source": [
    "def download_and_format():\n",
    "    '''\n",
    "    Download the data from UCI, remove the zip, create subdirectory for data, and \n",
    "    move files into the subdirectory. Function will return two dataframes (train, test).\n",
    "    '''\n",
    "    !wget -N https://archive.ics.uci.edu/ml/machine-learning-databases/00462/drugsCom_raw.zip\n",
    "    !unzip -o drugsCom_raw.zip\n",
    "    os.remove('drugsCom_raw.zip')\n",
    "    data_dir = 'data'\n",
    "    os.mkdir(data_dir)\n",
    "    Path('drugsComTrain_raw.tsv').rename(data_dir + '/drugsComTrain_raw.tsv')\n",
    "    Path('drugsComTest_raw.tsv').rename(data_dir + '/drugsComTest_raw.tsv')\n",
    "    train_data = pd.read_csv(data_dir + '/drugsComTrain_raw.tsv', sep = '\\t')\n",
    "    test_data = pd.read_csv(data_dir + '/drugsComTest_raw.tsv', sep = '\\t')\n",
    "    return train_data, test_data\n",
    "\n",
    "train, test = download_and_format()"
   ]
  },
  {
   "cell_type": "markdown",
   "id": "mighty-dayton",
   "metadata": {},
   "source": [
    "## Initial Data Exploration\n",
    "We first want to begin by looking at our data and assessing its form. We want to check for missing values, extreme outliers, and statistics about the data."
   ]
  },
  {
   "cell_type": "code",
   "execution_count": 10,
   "id": "destroyed-theta",
   "metadata": {},
   "outputs": [
    {
     "data": {
      "text/html": [
       "<div>\n",
       "<style scoped>\n",
       "    .dataframe tbody tr th:only-of-type {\n",
       "        vertical-align: middle;\n",
       "    }\n",
       "\n",
       "    .dataframe tbody tr th {\n",
       "        vertical-align: top;\n",
       "    }\n",
       "\n",
       "    .dataframe thead th {\n",
       "        text-align: right;\n",
       "    }\n",
       "</style>\n",
       "<table border=\"1\" class=\"dataframe\">\n",
       "  <thead>\n",
       "    <tr style=\"text-align: right;\">\n",
       "      <th></th>\n",
       "      <th>drugName</th>\n",
       "      <th>condition</th>\n",
       "      <th>review</th>\n",
       "      <th>rating</th>\n",
       "      <th>date</th>\n",
       "      <th>usefulCount</th>\n",
       "    </tr>\n",
       "  </thead>\n",
       "  <tbody>\n",
       "    <tr>\n",
       "      <th>0</th>\n",
       "      <td>Valsartan</td>\n",
       "      <td>Left Ventricular Dysfunction</td>\n",
       "      <td>\"It has no side effect, I take it in combinati...</td>\n",
       "      <td>9.0</td>\n",
       "      <td>May 20, 2012</td>\n",
       "      <td>27</td>\n",
       "    </tr>\n",
       "    <tr>\n",
       "      <th>1</th>\n",
       "      <td>Guanfacine</td>\n",
       "      <td>ADHD</td>\n",
       "      <td>\"My son is halfway through his fourth week of ...</td>\n",
       "      <td>8.0</td>\n",
       "      <td>April 27, 2010</td>\n",
       "      <td>192</td>\n",
       "    </tr>\n",
       "    <tr>\n",
       "      <th>2</th>\n",
       "      <td>Lybrel</td>\n",
       "      <td>Birth Control</td>\n",
       "      <td>\"I used to take another oral contraceptive, wh...</td>\n",
       "      <td>5.0</td>\n",
       "      <td>December 14, 2009</td>\n",
       "      <td>17</td>\n",
       "    </tr>\n",
       "    <tr>\n",
       "      <th>3</th>\n",
       "      <td>Ortho Evra</td>\n",
       "      <td>Birth Control</td>\n",
       "      <td>\"This is my first time using any form of birth...</td>\n",
       "      <td>8.0</td>\n",
       "      <td>November 3, 2015</td>\n",
       "      <td>10</td>\n",
       "    </tr>\n",
       "    <tr>\n",
       "      <th>4</th>\n",
       "      <td>Buprenorphine / naloxone</td>\n",
       "      <td>Opiate Dependence</td>\n",
       "      <td>\"Suboxone has completely turned my life around...</td>\n",
       "      <td>9.0</td>\n",
       "      <td>November 27, 2016</td>\n",
       "      <td>37</td>\n",
       "    </tr>\n",
       "  </tbody>\n",
       "</table>\n",
       "</div>"
      ],
      "text/plain": [
       "                   drugName                     condition  \\\n",
       "0                 Valsartan  Left Ventricular Dysfunction   \n",
       "1                Guanfacine                          ADHD   \n",
       "2                    Lybrel                 Birth Control   \n",
       "3                Ortho Evra                 Birth Control   \n",
       "4  Buprenorphine / naloxone             Opiate Dependence   \n",
       "\n",
       "                                              review  rating  \\\n",
       "0  \"It has no side effect, I take it in combinati...     9.0   \n",
       "1  \"My son is halfway through his fourth week of ...     8.0   \n",
       "2  \"I used to take another oral contraceptive, wh...     5.0   \n",
       "3  \"This is my first time using any form of birth...     8.0   \n",
       "4  \"Suboxone has completely turned my life around...     9.0   \n",
       "\n",
       "                date  usefulCount  \n",
       "0       May 20, 2012           27  \n",
       "1     April 27, 2010          192  \n",
       "2  December 14, 2009           17  \n",
       "3   November 3, 2015           10  \n",
       "4  November 27, 2016           37  "
      ]
     },
     "execution_count": 10,
     "metadata": {},
     "output_type": "execute_result"
    }
   ],
   "source": [
    "train.drop('Unnamed: 0', axis=1, inplace=True) # unique id (not needed for exploration)\n",
    "train.head()"
   ]
  },
  {
   "cell_type": "code",
   "execution_count": 14,
   "id": "breathing-enforcement",
   "metadata": {},
   "outputs": [
    {
     "data": {
      "text/plain": [
       "161297"
      ]
     },
     "execution_count": 14,
     "metadata": {},
     "output_type": "execute_result"
    }
   ],
   "source": [
    "len(train) # original length"
   ]
  },
  {
   "cell_type": "code",
   "execution_count": 11,
   "id": "detected-console",
   "metadata": {},
   "outputs": [
    {
     "data": {
      "text/html": [
       "<div>\n",
       "<style scoped>\n",
       "    .dataframe tbody tr th:only-of-type {\n",
       "        vertical-align: middle;\n",
       "    }\n",
       "\n",
       "    .dataframe tbody tr th {\n",
       "        vertical-align: top;\n",
       "    }\n",
       "\n",
       "    .dataframe thead th {\n",
       "        text-align: right;\n",
       "    }\n",
       "</style>\n",
       "<table border=\"1\" class=\"dataframe\">\n",
       "  <thead>\n",
       "    <tr style=\"text-align: right;\">\n",
       "      <th></th>\n",
       "      <th>count</th>\n",
       "      <th>mean</th>\n",
       "      <th>std</th>\n",
       "      <th>min</th>\n",
       "      <th>25%</th>\n",
       "      <th>50%</th>\n",
       "      <th>75%</th>\n",
       "      <th>max</th>\n",
       "    </tr>\n",
       "  </thead>\n",
       "  <tbody>\n",
       "    <tr>\n",
       "      <th>rating</th>\n",
       "      <td>161297.0</td>\n",
       "      <td>6.994377</td>\n",
       "      <td>3.272329</td>\n",
       "      <td>1.0</td>\n",
       "      <td>5.0</td>\n",
       "      <td>8.0</td>\n",
       "      <td>10.0</td>\n",
       "      <td>10.0</td>\n",
       "    </tr>\n",
       "    <tr>\n",
       "      <th>usefulCount</th>\n",
       "      <td>161297.0</td>\n",
       "      <td>28.004755</td>\n",
       "      <td>36.403742</td>\n",
       "      <td>0.0</td>\n",
       "      <td>6.0</td>\n",
       "      <td>16.0</td>\n",
       "      <td>36.0</td>\n",
       "      <td>1291.0</td>\n",
       "    </tr>\n",
       "  </tbody>\n",
       "</table>\n",
       "</div>"
      ],
      "text/plain": [
       "                count       mean        std  min  25%   50%   75%     max\n",
       "rating       161297.0   6.994377   3.272329  1.0  5.0   8.0  10.0    10.0\n",
       "usefulCount  161297.0  28.004755  36.403742  0.0  6.0  16.0  36.0  1291.0"
      ]
     },
     "execution_count": 11,
     "metadata": {},
     "output_type": "execute_result"
    }
   ],
   "source": [
    "train.describe().T # values are as expected"
   ]
  },
  {
   "cell_type": "markdown",
   "id": "electoral-jewel",
   "metadata": {},
   "source": [
    "### Drop Missing and Unrelated Values\n",
    "\n",
    "In my exploration, I found that condition was missing 899 values, which will not be an issue for the model since the condition will not be used. But for the data exploration we will want to drop these missing values since we will want to look into the condition feature. I also noticed that some conditions simply said how many people found a review useful. Again, this won't be an issue in the modeling part, but for exploration we will want to drop these values as well."
   ]
  },
  {
   "cell_type": "code",
   "execution_count": 13,
   "id": "expanded-couple",
   "metadata": {},
   "outputs": [
    {
     "data": {
      "text/plain": [
       "drugName         0\n",
       "condition      899\n",
       "review           0\n",
       "rating           0\n",
       "date             0\n",
       "usefulCount      0\n",
       "dtype: int64"
      ]
     },
     "execution_count": 13,
     "metadata": {},
     "output_type": "execute_result"
    }
   ],
   "source": [
    "train.isna().sum()"
   ]
  },
  {
   "cell_type": "code",
   "execution_count": 30,
   "id": "dying-curve",
   "metadata": {},
   "outputs": [],
   "source": [
    "train = train[train.condition.notna()].reset_index()"
   ]
  },
  {
   "cell_type": "code",
   "execution_count": 31,
   "id": "burning-firewall",
   "metadata": {},
   "outputs": [
    {
     "data": {
      "text/html": [
       "<div>\n",
       "<style scoped>\n",
       "    .dataframe tbody tr th:only-of-type {\n",
       "        vertical-align: middle;\n",
       "    }\n",
       "\n",
       "    .dataframe tbody tr th {\n",
       "        vertical-align: top;\n",
       "    }\n",
       "\n",
       "    .dataframe thead th {\n",
       "        text-align: right;\n",
       "    }\n",
       "</style>\n",
       "<table border=\"1\" class=\"dataframe\">\n",
       "  <thead>\n",
       "    <tr style=\"text-align: right;\">\n",
       "      <th></th>\n",
       "      <th>index</th>\n",
       "      <th>drugName</th>\n",
       "      <th>condition</th>\n",
       "      <th>review</th>\n",
       "      <th>rating</th>\n",
       "      <th>date</th>\n",
       "      <th>usefulCount</th>\n",
       "    </tr>\n",
       "  </thead>\n",
       "  <tbody>\n",
       "    <tr>\n",
       "      <th>104</th>\n",
       "      <td>105</td>\n",
       "      <td>Loestrin 24 Fe</td>\n",
       "      <td>2&lt;/span&gt; users found this comment helpful.</td>\n",
       "      <td>\"I&amp;#039;m 16 and  I have been on Loestrin 24 f...</td>\n",
       "      <td>3.0</td>\n",
       "      <td>November 3, 2010</td>\n",
       "      <td>2</td>\n",
       "    </tr>\n",
       "    <tr>\n",
       "      <th>194</th>\n",
       "      <td>196</td>\n",
       "      <td>Provera</td>\n",
       "      <td>4&lt;/span&gt; users found this comment helpful.</td>\n",
       "      <td>\"I&amp;#039;m 24 years old and have always had a p...</td>\n",
       "      <td>1.0</td>\n",
       "      <td>March 27, 2016</td>\n",
       "      <td>4</td>\n",
       "    </tr>\n",
       "    <tr>\n",
       "      <th>241</th>\n",
       "      <td>243</td>\n",
       "      <td>Yaz</td>\n",
       "      <td>3&lt;/span&gt; users found this comment helpful.</td>\n",
       "      <td>\"I took Yaz for a little over 2 years.  From a...</td>\n",
       "      <td>3.0</td>\n",
       "      <td>June 1, 2010</td>\n",
       "      <td>3</td>\n",
       "    </tr>\n",
       "    <tr>\n",
       "      <th>262</th>\n",
       "      <td>264</td>\n",
       "      <td>Loestrin 24 Fe</td>\n",
       "      <td>4&lt;/span&gt; users found this comment helpful.</td>\n",
       "      <td>\"Took this pill for 1.) Acne and 2.) Birth Con...</td>\n",
       "      <td>2.0</td>\n",
       "      <td>June 24, 2014</td>\n",
       "      <td>4</td>\n",
       "    </tr>\n",
       "    <tr>\n",
       "      <th>389</th>\n",
       "      <td>391</td>\n",
       "      <td>Norco</td>\n",
       "      <td>11&lt;/span&gt; users found this comment helpful.</td>\n",
       "      <td>\"I have suffered with low back pain - 2 surger...</td>\n",
       "      <td>9.0</td>\n",
       "      <td>March 15, 2009</td>\n",
       "      <td>11</td>\n",
       "    </tr>\n",
       "  </tbody>\n",
       "</table>\n",
       "</div>"
      ],
      "text/plain": [
       "     index        drugName                                    condition  \\\n",
       "104    105  Loestrin 24 Fe   2</span> users found this comment helpful.   \n",
       "194    196         Provera   4</span> users found this comment helpful.   \n",
       "241    243             Yaz   3</span> users found this comment helpful.   \n",
       "262    264  Loestrin 24 Fe   4</span> users found this comment helpful.   \n",
       "389    391           Norco  11</span> users found this comment helpful.   \n",
       "\n",
       "                                                review  rating  \\\n",
       "104  \"I&#039;m 16 and  I have been on Loestrin 24 f...     3.0   \n",
       "194  \"I&#039;m 24 years old and have always had a p...     1.0   \n",
       "241  \"I took Yaz for a little over 2 years.  From a...     3.0   \n",
       "262  \"Took this pill for 1.) Acne and 2.) Birth Con...     2.0   \n",
       "389  \"I have suffered with low back pain - 2 surger...     9.0   \n",
       "\n",
       "                 date  usefulCount  \n",
       "104  November 3, 2010            2  \n",
       "194    March 27, 2016            4  \n",
       "241      June 1, 2010            3  \n",
       "262     June 24, 2014            4  \n",
       "389    March 15, 2009           11  "
      ]
     },
     "execution_count": 31,
     "metadata": {},
     "output_type": "execute_result"
    }
   ],
   "source": [
    "train[train.condition.str.contains('</span>')].head()"
   ]
  },
  {
   "cell_type": "code",
   "execution_count": 32,
   "id": "bearing-boards",
   "metadata": {},
   "outputs": [],
   "source": [
    "idx_drop = train[train.condition.str.contains('</span>')].index.values"
   ]
  },
  {
   "cell_type": "code",
   "execution_count": 34,
   "id": "public-essence",
   "metadata": {},
   "outputs": [],
   "source": [
    "train.drop(train.index[idx_drop], inplace=True)"
   ]
  },
  {
   "cell_type": "code",
   "execution_count": 35,
   "id": "british-numbers",
   "metadata": {},
   "outputs": [
    {
     "data": {
      "text/html": [
       "<div>\n",
       "<style scoped>\n",
       "    .dataframe tbody tr th:only-of-type {\n",
       "        vertical-align: middle;\n",
       "    }\n",
       "\n",
       "    .dataframe tbody tr th {\n",
       "        vertical-align: top;\n",
       "    }\n",
       "\n",
       "    .dataframe thead th {\n",
       "        text-align: right;\n",
       "    }\n",
       "</style>\n",
       "<table border=\"1\" class=\"dataframe\">\n",
       "  <thead>\n",
       "    <tr style=\"text-align: right;\">\n",
       "      <th></th>\n",
       "      <th>index</th>\n",
       "      <th>drugName</th>\n",
       "      <th>condition</th>\n",
       "      <th>review</th>\n",
       "      <th>rating</th>\n",
       "      <th>date</th>\n",
       "      <th>usefulCount</th>\n",
       "    </tr>\n",
       "  </thead>\n",
       "  <tbody>\n",
       "  </tbody>\n",
       "</table>\n",
       "</div>"
      ],
      "text/plain": [
       "Empty DataFrame\n",
       "Columns: [index, drugName, condition, review, rating, date, usefulCount]\n",
       "Index: []"
      ]
     },
     "execution_count": 35,
     "metadata": {},
     "output_type": "execute_result"
    }
   ],
   "source": [
    "train[train.condition.str.contains('</span>')] # no values found"
   ]
  },
  {
   "cell_type": "code",
   "execution_count": 36,
   "id": "civilian-architecture",
   "metadata": {},
   "outputs": [
    {
     "data": {
      "text/plain": [
       "159498"
      ]
     },
     "execution_count": 36,
     "metadata": {},
     "output_type": "execute_result"
    }
   ],
   "source": [
    "len(train)"
   ]
  },
  {
   "cell_type": "markdown",
   "id": "equipped-novelty",
   "metadata": {},
   "source": [
    "After dropping the missing values and unrelated conditions, we dropped 1799 values in total. This won't have too large of an effect since we still have around 160,000 observations that are fully complete in our dataset."
   ]
  },
  {
   "cell_type": "markdown",
   "id": "brilliant-lender",
   "metadata": {},
   "source": [
    "## Rating and Drug Exploration\n",
    "Two features we want to further explore in our data is `rating` and `drugName`. We will want to see the ratings distribution, the most common drugs administered, the average ratings for these drugs, and evalutate the `usefulCount` column to see if it can be related to the rating column to determine the validity of the reviews."
   ]
  },
  {
   "cell_type": "code",
   "execution_count": 104,
   "id": "curious-farmer",
   "metadata": {},
   "outputs": [
    {
     "data": {
      "image/png": "[encoded data removed]",
      "text/plain": [
       "<Figure size 864x360 with 1 Axes>"
      ]
     },
     "metadata": {},
     "output_type": "display_data"
    }
   ],
   "source": [
    "plt.figure(figsize=(12,5))\n",
    "sns.countplot(x='rating', data=train, palette=sns.color_palette(\"husl\", 10))\n",
    "plt.xlabel('Rating')\n",
    "plt.ylabel('Frequency')\n",
    "plt.title('Rating Frequency Distribution')\n",
    "plt.show();"
   ]
  },
  {
   "cell_type": "markdown",
   "id": "earned-charleston",
   "metadata": {},
   "source": [
    "There seems to be a majority of the reviews on the positive side (7-10) compared to the neutral (4-6) or negative (1-3) sides. This could lead to a class imbalance is we use the rating column as our labels (seperated into 3 categories), so we may want to account for `usefulCount` when creating our class labels (but this will be taken care of later on)."
   ]
  },
  {
   "cell_type": "code",
   "execution_count": 103,
   "id": "northern-estonia",
   "metadata": {},
   "outputs": [
    {
     "data": {
      "image/png": "[encoded data removed]",
      "text/plain": [
       "<Figure size 864x360 with 1 Axes>"
      ]
     },
     "metadata": {},
     "output_type": "display_data"
    }
   ],
   "source": [
    "top10_condition = train.groupby('condition').agg('count').sort_values(by ='drugName', ascending=False)[:10]\n",
    "\n",
    "plt.figure(figsize=(12,5))\n",
    "sns.barplot(y=top10_condition['index'].index, x=top10_condition['index'].values, palette=sns.color_palette(\"husl\", 10))\n",
    "plt.xlabel('Number of Observations')\n",
    "plt.ylabel(' ')\n",
    "plt.title('Top 10 Most Common Conditions')\n",
    "plt.show();"
   ]
  },
  {
   "cell_type": "markdown",
   "id": "formal-headline",
   "metadata": {},
   "source": [
    "Birth control seems to be the most common condition by at least 3x, followed by Depression and Pain. These conditions related to perscription drugs are expected and there was no suprises in the findings. We may want to look at the distribution of `drugName` for Birth control to better understand the observations."
   ]
  },
  {
   "cell_type": "code",
   "execution_count": null,
   "id": "extraordinary-maker",
   "metadata": {},
   "outputs": [],
   "source": []
  },
  {
   "cell_type": "code",
   "execution_count": null,
   "id": "oriented-graphics",
   "metadata": {},
   "outputs": [],
   "source": []
  },
  {
   "cell_type": "code",
   "execution_count": null,
   "id": "economic-spread",
   "metadata": {},
   "outputs": [],
   "source": []
  }
 ],
 "metadata": {
  "kernelspec": {
   "display_name": "conda_python3",
   "language": "python",
   "name": "conda_python3"
  },
  "language_info": {
   "codemirror_mode": {
    "name": "ipython",
    "version": 3
   },
   "file_extension": ".py",
   "mimetype": "text/x-python",
   "name": "python",
   "nbconvert_exporter": "python",
   "pygments_lexer": "ipython3",
   "version": "3.6.10"
  }
 },
 "nbformat": 4,
 "nbformat_minor": 5
}
